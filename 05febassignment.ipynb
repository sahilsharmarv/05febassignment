{
 "cells": [
  {
   "cell_type": "markdown",
   "id": "abe937b6-d9d6-45ff-b130-e32fbafaa41b",
   "metadata": {},
   "source": [
    "Q1. Explain Class and Object with respect to Object-Oriented Programming. Give a suitable example."
   ]
  },
  {
   "cell_type": "markdown",
   "id": "bc71d815-ce56-4ead-93a1-cc3a2c18904f",
   "metadata": {},
   "source": [
    "In Object-Oriented Programming (OOP), a class is a blueprint or a template that defines the characteristics and behaviors of a certain type of objects.It specifies the attributes (data) and methods (functions) that the objects of the class will have. On the other hand, an object is an instance of a class that has its own unique identity and data, but also inherits the behavior defined in the class.\n",
    "\n",
    "In simple words , Object − Objects have states and behaviors. Example: A dog has states - color, name, breed as well as behaviors – wagging the tail, barking, eating. An object is an instance of a class. Class − A class can be defined as a template/blueprint that describes the behavior/state that the object of its type support."
   ]
  },
  {
   "cell_type": "code",
   "execution_count": 4,
   "id": "039a60f3-8766-4abe-ba0b-0cb7c512d64b",
   "metadata": {},
   "outputs": [
    {
     "name": "stdout",
     "output_type": "stream",
     "text": [
      "Buddy\n",
      "Golden Retriever\n",
      "Woof! Woof!\n",
      "Max\n",
      "German Shepherd\n",
      "Woof! Woof!\n"
     ]
    }
   ],
   "source": [
    "class Dog:\n",
    "    def __init__(self, name, breed):\n",
    "        self.name = name\n",
    "        self.breed = breed\n",
    "        \n",
    "    def bark(self):\n",
    "        print(\"Woof! Woof!\")\n",
    "\n",
    "dog1 = Dog(\"Buddy\", \"Golden Retriever\")\n",
    "dog2 = Dog(\"Max\", \"German Shepherd\")\n",
    "\n",
    "print(dog1.name)\n",
    "print(dog1.breed)\n",
    "dog1.bark()\n",
    "print(dog2.name)\n",
    "print(dog2.breed)\n",
    "dog2.bark()"
   ]
  },
  {
   "cell_type": "markdown",
   "id": "7602cc16-bbf9-45cd-83d0-90aa11fbccb6",
   "metadata": {},
   "source": [
    "Q2. Name the four pillars of OOPs ?\n"
   ]
  },
  {
   "cell_type": "markdown",
   "id": "afb97b78-c237-4191-b645-3c2813b1e635",
   "metadata": {},
   "source": [
    "The four pillars of Object-Oriented Programming (OOP) are:\n",
    "\n",
    "Encapsulation: Encapsulation is the process of hiding the internal details of an object and exposing only the necessary information to the outside world. It helps in protecting the data and preventing it from being accessed or modified by unauthorized code. Encapsulation is achieved by using access modifiers (public, private, and protected) to control access to class members.\n",
    "\n",
    "Inheritance: Inheritance is a mechanism that allows a new class (called the derived class or subclass) to be based on an existing class (called the base class or superclass). The derived class inherits the properties and behaviors of the base class, and can also add new properties and behaviors of its own. This helps in reducing code duplication and promotes code reuse.\n",
    "\n",
    "Polymorphism: Polymorphism is the ability of an object to take on multiple forms. In OOP, this means that objects of different classes can be used interchangeably if they share a common interface or parent class. Polymorphism can be achieved through method overloading (multiple methods with the same name but different parameters) and method overriding (a method in a subclass with the same name and parameters as a method in the superclass).\n",
    "\n",
    "Abstraction: Abstraction is the process of representing complex real-world entities as simplified models in code. It helps in managing complexity by hiding unnecessary details and focusing only on the essential features of an object. Abstraction can be achieved through abstract classes (classes that cannot be instantiated but can be used as base classes) and interfaces (a collection of abstract methods that define a contract that implementing classes must adhere to).\n",
    "\n",
    "\n",
    "\n",
    "\n",
    "\n"
   ]
  },
  {
   "cell_type": "markdown",
   "id": "417ce30f-5f25-486a-bf17-b797f4fb29e1",
   "metadata": {},
   "source": [
    "Q3. Explain why the __init__() function is used. Give a suitable example. \n"
   ]
  },
  {
   "cell_type": "markdown",
   "id": "ed15e59f-157d-4cb4-a2ac-1698e25e5f35",
   "metadata": {},
   "source": [
    "The __init__() function is a special method in Python classes that is called when an object is created from the class. It is used to initialize the attributes (data) of the object to some default values or to values provided as arguments.\n",
    "\n",
    "Here's an example to illustrate why the __init__() function is used:"
   ]
  },
  {
   "cell_type": "code",
   "execution_count": 7,
   "id": "ed2a1596-149e-4888-8e52-f0f6ade54454",
   "metadata": {},
   "outputs": [
    {
     "name": "stdout",
     "output_type": "stream",
     "text": [
      "Toyota\n",
      "2021\n",
      "20\n",
      "0\n"
     ]
    }
   ],
   "source": [
    "class Car:\n",
    "    def __init__(self, make, model, year):\n",
    "        self.make = make\n",
    "        self.model = model\n",
    "        self.year = year\n",
    "        self.speed = 0\n",
    "        \n",
    "    def accelerate(self):\n",
    "        self.speed += 10\n",
    "        \n",
    "    def brake(self):\n",
    "        self.speed -= 10\n",
    "        \n",
    "car1 = Car(\"Toyota\", \"Corolla\", 2022)\n",
    "car2 = Car(\"Honda\", \"Civic\", 2021)\n",
    "\n",
    "print(car1.make)\n",
    "print(car2.year)\n",
    "\n",
    "car1.accelerate()\n",
    "car1.accelerate()\n",
    "print(car1.speed)\n",
    "car2.accelerate()\n",
    "car2.brake()\n",
    "print(car2.speed)\n"
   ]
  },
  {
   "cell_type": "markdown",
   "id": "dae547c6-ddb8-4efb-a4dc-ae2203eadf1b",
   "metadata": {},
   "source": [
    "Q4. Why self is used in OOPs? "
   ]
  },
  {
   "cell_type": "markdown",
   "id": "13f60e0d-3cf4-4f48-beb2-6fdecd5ebe12",
   "metadata": {},
   "source": [
    "In Object-Oriented Programming (OOP), self is a special parameter that is used to refer to the instance (or object) of a class. It is a convention to name this parameter self, but it can technically be named anything.\n",
    "\n",
    "When a method is called on an object, the object itself is automatically passed as the first argument to the method. This allows the method to access and modify the object's attributes and properties.\n",
    "\n",
    "For example, consider the following Person class:"
   ]
  },
  {
   "cell_type": "code",
   "execution_count": 9,
   "id": "ac7de3b6-f4c1-4997-964c-ce0f4be22fe0",
   "metadata": {},
   "outputs": [
    {
     "name": "stdout",
     "output_type": "stream",
     "text": [
      "Hello, my name is Alice and I am 25 years old.\n"
     ]
    }
   ],
   "source": [
    "class Person:\n",
    "    def __init__(self, name, age):\n",
    "        self.name = name\n",
    "        self.age = age\n",
    "        \n",
    "    def say_hello(self):\n",
    "        print(f\"Hello, my name is {self.name} and I am {self.age} years old.\")\n",
    "        \n",
    "person1 = Person(\"Alice\", 25)\n",
    "person1.say_hello() # prints \"Hello, my name is Alice and I am 25 years old.\"\n"
   ]
  },
  {
   "cell_type": "markdown",
   "id": "e75f2e27-5547-4da9-ad2d-a861fe8a56cc",
   "metadata": {},
   "source": [
    "Q5. What is inheritance? Give an example for each type of inheritance. \n"
   ]
  },
  {
   "cell_type": "markdown",
   "id": "e42b9f1d-2366-46b4-b437-686b2f52277a",
   "metadata": {},
   "source": [
    "Inheritance is a mechanism in Object-Oriented Programming (OOP) that allows a new class (called the derived class or subclass) to be based on an existing class (called the base class or superclass). The derived class inherits the properties and behaviors of the base class, and can also add new properties and behaviors of its own. This helps in reducing code duplication and promotes code reuse.\n",
    "\n",
    "There are four types of inheritance in OOP:\n",
    "\n",
    "Single inheritance: Single inheritance is when a subclass inherits from a single base class. For example:"
   ]
  },
  {
   "cell_type": "code",
   "execution_count": 1,
   "id": "39ebc407-5eab-4220-b4ea-f42106207f53",
   "metadata": {},
   "outputs": [
    {
     "name": "stdout",
     "output_type": "stream",
     "text": [
      "The dog barks.\n"
     ]
    }
   ],
   "source": [
    "class Animal:\n",
    "    def speak(self):\n",
    "        print(\"The animal speaks.\")\n",
    "\n",
    "class Dog(Animal):\n",
    "    def speak(self):\n",
    "        print(\"The dog barks.\")\n",
    "\n",
    "dog = Dog()\n",
    "dog.speak() # prints \"The dog barks.\"\n"
   ]
  },
  {
   "cell_type": "markdown",
   "id": "5306b626-6808-4762-ab72-522b46e6faca",
   "metadata": {},
   "source": [
    "In this example, the Dog class inherits from the Animal class using single inheritance. The Dog class overrides the speak() method inherited from Animal to define its own behavior.\n",
    "\n",
    "Multiple inheritance: Multiple inheritance is when a subclass inherits from multiple base classes. For example:"
   ]
  },
  {
   "cell_type": "code",
   "execution_count": 2,
   "id": "fead38fe-61c6-4a71-ac29-b987e2d73012",
   "metadata": {},
   "outputs": [
    {
     "name": "stdout",
     "output_type": "stream",
     "text": [
      "A speaks.\n"
     ]
    }
   ],
   "source": [
    "class A:\n",
    "    def speak(self):\n",
    "        print(\"A speaks.\")\n",
    "\n",
    "class B:\n",
    "    def speak(self):\n",
    "        print(\"B speaks.\")\n",
    "\n",
    "class C(A, B):\n",
    "    pass\n",
    "\n",
    "c = C()\n",
    "c.speak() # prints \"A speaks.\"\n"
   ]
  },
  {
   "cell_type": "markdown",
   "id": "ce52ae96-0edc-4bd7-9ef3-5c60b1c826a9",
   "metadata": {},
   "source": [
    "In this example, the C class inherits from both the A and B classes using multiple inheritance. Since both A and B define a speak() method, the method from A is used in C.\n",
    "\n",
    "Multilevel inheritance: Multilevel inheritance is when a subclass inherits from a base class, which itself inherits from another base class. For example:"
   ]
  },
  {
   "cell_type": "code",
   "execution_count": 3,
   "id": "5b9ca7af-d9fe-4937-8ce9-c4b8220fb347",
   "metadata": {},
   "outputs": [
    {
     "name": "stdout",
     "output_type": "stream",
     "text": [
      "The dog barks.\n"
     ]
    }
   ],
   "source": [
    "class Animal:\n",
    "    def speak(self):\n",
    "        print(\"The animal speaks.\")\n",
    "\n",
    "class Mammal(Animal):\n",
    "    pass\n",
    "\n",
    "class Dog(Mammal):\n",
    "    def speak(self):\n",
    "        print(\"The dog barks.\")\n",
    "\n",
    "dog = Dog()\n",
    "dog.speak() # prints \"The dog barks.\"\n"
   ]
  },
  {
   "cell_type": "markdown",
   "id": "e3119b2e-edee-4ff8-9769-aabd5dcbbf20",
   "metadata": {},
   "source": [
    "In this example, the Dog class inherits from the Mammal class, which itself inherits from the Animal class using multilevel inheritance. The Dog class overrides the speak() method inherited from Mammal.\n",
    "\n",
    "Hierarchical inheritance: Hierarchical inheritance is when multiple subclasses inherit from a single base class. For example:"
   ]
  },
  {
   "cell_type": "code",
   "execution_count": 4,
   "id": "5fb08bc2-f505-4fa0-8571-33e7530fa2bf",
   "metadata": {},
   "outputs": [
    {
     "name": "stdout",
     "output_type": "stream",
     "text": [
      "The cat meows.\n",
      "The dog barks.\n"
     ]
    }
   ],
   "source": [
    "class Animal:\n",
    "    def speak(self):\n",
    "        print(\"The animal speaks.\")\n",
    "\n",
    "class Cat(Animal):\n",
    "    def speak(self):\n",
    "        print(\"The cat meows.\")\n",
    "\n",
    "class Dog(Animal):\n",
    "    def speak(self):\n",
    "        print(\"The dog barks.\")\n",
    "\n",
    "cat = Cat()\n",
    "dog = Dog()\n",
    "cat.speak() # prints \"The cat meows.\"\n",
    "dog.speak() # prints \"The dog barks.\"\n"
   ]
  },
  {
   "cell_type": "markdown",
   "id": "c077a98e-03a5-4462-8e5f-866fbd72e356",
   "metadata": {},
   "source": [
    "In this example, both the Cat and Dog classes inherit from the Animal class using hierarchical inheritance. Each subclass overrides the speak() method to define its own behavior."
   ]
  }
 ],
 "metadata": {
  "kernelspec": {
   "display_name": "Python 3 (ipykernel)",
   "language": "python",
   "name": "python3"
  },
  "language_info": {
   "codemirror_mode": {
    "name": "ipython",
    "version": 3
   },
   "file_extension": ".py",
   "mimetype": "text/x-python",
   "name": "python",
   "nbconvert_exporter": "python",
   "pygments_lexer": "ipython3",
   "version": "3.10.8"
  }
 },
 "nbformat": 4,
 "nbformat_minor": 5
}
